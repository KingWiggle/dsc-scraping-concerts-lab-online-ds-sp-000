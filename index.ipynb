{
 "cells": [
  {
   "cell_type": "markdown",
   "metadata": {},
   "source": [
    "# Scraping Concerts - Lab\n",
    "\n",
    "## Introduction\n",
    "\n",
    "Now that you've seen how to scrape a simple website, it's time to again practice those skills on a full-fledged site!\n",
    "In this lab, you'll practice your scraping skills on a music website: https://www.residentadvisor.net.\n",
    "## Objectives\n",
    "\n",
    "You will be able to:\n",
    "* Create a full scraping pipeline that involves traversing over many pages of a website, dealing with errors and storing data"
   ]
  },
  {
   "cell_type": "markdown",
   "metadata": {},
   "source": [
    "## View the Website\n",
    "\n",
    "For this lab, you'll be scraping the https://www.residentadvisor.net website. Start by navigating to the events page [here](https://www.residentadvisor.net/events) in your browser.\n",
    "\n",
    "<img src=\"images/ra.png\">"
   ]
  },
  {
   "cell_type": "code",
   "execution_count": 1,
   "metadata": {},
   "outputs": [],
   "source": [
    "# Load the https://www.residentadvisor.net/events page in your browser."
   ]
  },
  {
   "cell_type": "markdown",
   "metadata": {},
   "source": [
    "## Open the Inspect Element Feature\n",
    "\n",
    "Next, open the inspect element feature from your web browser in order to preview the underlying HTML associated with the page."
   ]
  },
  {
   "cell_type": "code",
   "execution_count": 2,
   "metadata": {},
   "outputs": [],
   "source": [
    "# Open the inspect element feature in your browser"
   ]
  },
  {
   "cell_type": "code",
   "execution_count": 3,
   "metadata": {},
   "outputs": [],
   "source": [
    "from bs4 import BeautifulSoup\n",
    "import requests\n",
    "import re\n",
    "import pandas as pd"
   ]
  },
  {
   "cell_type": "code",
   "execution_count": 35,
   "metadata": {},
   "outputs": [],
   "source": [
    "html_page = requests.get('https://www.residentadvisor.net/events')\n",
    "soup = BeautifulSoup(html_page.content, 'html.parser')\n"
   ]
  },
  {
   "cell_type": "code",
   "execution_count": 38,
   "metadata": {},
   "outputs": [
    {
     "data": {
      "text/plain": [
       "<h1 class=\"event-title\" itemprop=\"summary\"><a href=\"/events/1328205\" itemprop=\"url\" title=\"Event details of Spanksgiving // Verlk // Bedrock\">Spanksgiving // Verlk // Bedrock</a> <span>at <a href=\"/club.aspx?id=62829\">Boondocks</a>, <a href=\"/events.aspx?ai=63\">Houston</a></span></h1>"
      ]
     },
     "execution_count": 38,
     "metadata": {},
     "output_type": "execute_result"
    }
   ],
   "source": [
    "soup.find('h1', class_='event-title') # event"
   ]
  },
  {
   "cell_type": "code",
   "execution_count": 45,
   "metadata": {},
   "outputs": [
    {
     "data": {
      "text/plain": [
       "'Spanksgiving // Verlk // Bedrock'"
      ]
     },
     "execution_count": 45,
     "metadata": {},
     "output_type": "execute_result"
    }
   ],
   "source": [
    "soup.find('h1', class_='event-title').findAll('a')[0].text"
   ]
  },
  {
   "cell_type": "code",
   "execution_count": 46,
   "metadata": {},
   "outputs": [
    {
     "data": {
      "text/plain": [
       "'Boondocks'"
      ]
     },
     "execution_count": 46,
     "metadata": {},
     "output_type": "execute_result"
    }
   ],
   "source": [
    "soup.find('h1', class_='event-title').findAll('a')[1].text"
   ]
  },
  {
   "cell_type": "code",
   "execution_count": 75,
   "metadata": {},
   "outputs": [
    {
     "data": {
      "text/plain": [
       "'2019-11-27'"
      ]
     },
     "execution_count": 75,
     "metadata": {},
     "output_type": "execute_result"
    }
   ],
   "source": [
    "soup.find('h1', class_='event-title').parent.parent.find('time').text[:-6]"
   ]
  },
  {
   "cell_type": "code",
   "execution_count": 71,
   "metadata": {
    "scrolled": true
   },
   "outputs": [
    {
     "data": {
      "text/plain": [
       "'2019-11-29'"
      ]
     },
     "execution_count": 71,
     "metadata": {},
     "output_type": "execute_result"
    }
   ],
   "source": [
    "soup.findAll('h1', class_='event-title')[2].parent.parent.find('time').text[:-6]"
   ]
  },
  {
   "cell_type": "code",
   "execution_count": 90,
   "metadata": {},
   "outputs": [
    {
     "ename": "AttributeError",
     "evalue": "'NoneType' object has no attribute 'find'",
     "output_type": "error",
     "traceback": [
      "\u001b[0;31m---------------------------------------------------------------------------\u001b[0m",
      "\u001b[0;31mAttributeError\u001b[0m                            Traceback (most recent call last)",
      "\u001b[0;32m<ipython-input-90-8438ba70959d>\u001b[0m in \u001b[0;36m<module>\u001b[0;34m\u001b[0m\n\u001b[0;32m----> 1\u001b[0;31m \u001b[0msoup\u001b[0m\u001b[0;34m.\u001b[0m\u001b[0mfindAll\u001b[0m\u001b[0;34m(\u001b[0m\u001b[0;34m'h1'\u001b[0m\u001b[0;34m,\u001b[0m \u001b[0mclass_\u001b[0m\u001b[0;34m=\u001b[0m\u001b[0;34m'event-title'\u001b[0m\u001b[0;34m)\u001b[0m\u001b[0;34m[\u001b[0m\u001b[0;36m6\u001b[0m\u001b[0;34m]\u001b[0m\u001b[0;34m.\u001b[0m\u001b[0mnextSibling\u001b[0m\u001b[0;34m.\u001b[0m\u001b[0mnextSibling\u001b[0m\u001b[0;34m.\u001b[0m\u001b[0mfind\u001b[0m\u001b[0;34m(\u001b[0m\u001b[0;34m'span'\u001b[0m\u001b[0;34m)\u001b[0m\u001b[0;34m.\u001b[0m\u001b[0mtext\u001b[0m\u001b[0;34m\u001b[0m\u001b[0;34m\u001b[0m\u001b[0m\n\u001b[0m",
      "\u001b[0;31mAttributeError\u001b[0m: 'NoneType' object has no attribute 'find'"
     ]
    }
   ],
   "source": [
    "soup.findAll('h1', class_='event-title')[6].nextSibling.nextSibling.find('span').text"
   ]
  },
  {
   "cell_type": "markdown",
   "metadata": {},
   "source": [
    "## Write a Function to Scrape all of the Events on the Given Page Events Page\n",
    "\n",
    "The function should return a Pandas DataFrame with columns for the Event_Name, Venue, Event_Date and Number_of_Attendees."
   ]
  },
  {
   "cell_type": "code",
   "execution_count": 96,
   "metadata": {},
   "outputs": [],
   "source": [
    "def scrape_events(events_page_url):\n",
    "    #Your code here\n",
    "    names = []\n",
    "    venues = []\n",
    "    dates = []\n",
    "    num_attendees = []\n",
    "    \n",
    "    html_page = requests.get(events_page_url)\n",
    "    soup = BeautifulSoup(html_page.content, 'html.parser')\n",
    "    event_list = soup.findAll('h1', class_='event-title')\n",
    "    \n",
    "    for event in event_list:\n",
    "        names.append(event.findAll('a')[0].text)\n",
    "        venues.append(event.findAll('a')[1].text)\n",
    "        dates.append(event.parent.parent.find('time').text[:-6])\n",
    "        if event.nextSibling.nextSibling is None:\n",
    "            num_attendees.append(0)\n",
    "        else:\n",
    "            num_attendees.append(event.nextSibling.nextSibling.find('span').text)\n",
    "        \n",
    "    df = pd.DataFrame({\"Event_Name\": names, \"Venue\": venues, \"Event_Date\": dates, \"Number_of_Attendees\": num_attendees})\n",
    "    return df\n"
   ]
  },
  {
   "cell_type": "code",
   "execution_count": 97,
   "metadata": {},
   "outputs": [
    {
     "data": {
      "text/html": [
       "<div>\n",
       "<style scoped>\n",
       "    .dataframe tbody tr th:only-of-type {\n",
       "        vertical-align: middle;\n",
       "    }\n",
       "\n",
       "    .dataframe tbody tr th {\n",
       "        vertical-align: top;\n",
       "    }\n",
       "\n",
       "    .dataframe thead th {\n",
       "        text-align: right;\n",
       "    }\n",
       "</style>\n",
       "<table border=\"1\" class=\"dataframe\">\n",
       "  <thead>\n",
       "    <tr style=\"text-align: right;\">\n",
       "      <th></th>\n",
       "      <th>Event_Name</th>\n",
       "      <th>Venue</th>\n",
       "      <th>Event_Date</th>\n",
       "      <th>Number_of_Attendees</th>\n",
       "    </tr>\n",
       "  </thead>\n",
       "  <tbody>\n",
       "    <tr>\n",
       "      <th>0</th>\n",
       "      <td>Spanksgiving // Verlk // Bedrock</td>\n",
       "      <td>Boondocks</td>\n",
       "      <td>2019-11-27</td>\n",
       "      <td>4</td>\n",
       "    </tr>\n",
       "    <tr>\n",
       "      <th>1</th>\n",
       "      <td>Praia at Night Feat. Carlo Lio B2B Nathan Barato</td>\n",
       "      <td>Bauhaus</td>\n",
       "      <td>2019-11-29</td>\n",
       "      <td>5</td>\n",
       "    </tr>\n",
       "    <tr>\n",
       "      <th>2</th>\n",
       "      <td>Nero (DJ Set)</td>\n",
       "      <td>Empire Control Room &amp; Garage</td>\n",
       "      <td>2019-11-29</td>\n",
       "      <td>3</td>\n",
       "    </tr>\n",
       "    <tr>\n",
       "      <th>3</th>\n",
       "      <td>Chus Ceballos</td>\n",
       "      <td>It'll Do</td>\n",
       "      <td>2019-11-29</td>\n",
       "      <td>3</td>\n",
       "    </tr>\n",
       "    <tr>\n",
       "      <th>4</th>\n",
       "      <td>Black Friday Midwest Sessions with Demarkus Lewis</td>\n",
       "      <td>Plush</td>\n",
       "      <td>2019-11-29</td>\n",
       "      <td>2</td>\n",
       "    </tr>\n",
       "    <tr>\n",
       "      <th>5</th>\n",
       "      <td>Kinda Super Disco // Erick Morillo</td>\n",
       "      <td>Numbers</td>\n",
       "      <td>2019-11-30</td>\n",
       "      <td>5</td>\n",
       "    </tr>\n",
       "    <tr>\n",
       "      <th>6</th>\n",
       "      <td>Brett Johnson</td>\n",
       "      <td>It'll Do</td>\n",
       "      <td>2019-11-30</td>\n",
       "      <td>0</td>\n",
       "    </tr>\n",
       "  </tbody>\n",
       "</table>\n",
       "</div>"
      ],
      "text/plain": [
       "                                          Event_Name  \\\n",
       "0                   Spanksgiving // Verlk // Bedrock   \n",
       "1   Praia at Night Feat. Carlo Lio B2B Nathan Barato   \n",
       "2                                     Nero (DJ Set)    \n",
       "3                                      Chus Ceballos   \n",
       "4  Black Friday Midwest Sessions with Demarkus Lewis   \n",
       "5                 Kinda Super Disco // Erick Morillo   \n",
       "6                                      Brett Johnson   \n",
       "\n",
       "                          Venue  Event_Date Number_of_Attendees  \n",
       "0                     Boondocks  2019-11-27                   4  \n",
       "1                       Bauhaus  2019-11-29                   5  \n",
       "2  Empire Control Room & Garage  2019-11-29                   3  \n",
       "3                      It'll Do  2019-11-29                   3  \n",
       "4                         Plush  2019-11-29                   2  \n",
       "5                       Numbers  2019-11-30                   5  \n",
       "6                      It'll Do  2019-11-30                   0  "
      ]
     },
     "execution_count": 97,
     "metadata": {},
     "output_type": "execute_result"
    }
   ],
   "source": [
    "scrape_events('https://www.residentadvisor.net/events')"
   ]
  },
  {
   "cell_type": "markdown",
   "metadata": {},
   "source": [
    "## Write a Function to Retrieve the URL for the Next Page"
   ]
  },
  {
   "cell_type": "code",
   "execution_count": 113,
   "metadata": {},
   "outputs": [
    {
     "data": {
      "text/plain": [
       "'/events/us/texas/week/2019-12-04'"
      ]
     },
     "execution_count": 113,
     "metadata": {},
     "output_type": "execute_result"
    }
   ],
   "source": [
    "soup.find(id='liNext2').find('a').attrs['href'] #next button url"
   ]
  },
  {
   "cell_type": "code",
   "execution_count": 128,
   "metadata": {},
   "outputs": [],
   "source": [
    "def next_page(url):\n",
    "    #Your code here\n",
    "    \n",
    "    html_page = requests.get(url)\n",
    "    soup = BeautifulSoup(html_page.content, 'html.parser')\n",
    "    \n",
    "    base_url = 'https://www.residentadvisor.net'\n",
    "    \n",
    "    if 'href' in soup.find(id='liNext2').find('a').attrs.keys():\n",
    "        return base_url + soup.find(id='liNext2').find('a').attrs['href']\n",
    "    else:\n",
    "        return url"
   ]
  },
  {
   "cell_type": "code",
   "execution_count": 126,
   "metadata": {},
   "outputs": [
    {
     "data": {
      "text/plain": [
       "'https://www.residentadvisor.net/events/us/texas/week/2019-12-04'"
      ]
     },
     "execution_count": 126,
     "metadata": {},
     "output_type": "execute_result"
    }
   ],
   "source": [
    "next_page('https://www.residentadvisor.net/events')"
   ]
  },
  {
   "cell_type": "markdown",
   "metadata": {},
   "source": [
    "## Scrape the Next 1000 Events for Your Area\n",
    "\n",
    "Display the data sorted by the number of attendees. If there is a tie for the number attending, sort by event date."
   ]
  },
  {
   "cell_type": "code",
   "execution_count": 129,
   "metadata": {
    "scrolled": true
   },
   "outputs": [
    {
     "name": "stdout",
     "output_type": "stream",
     "text": [
      "28\n"
     ]
    },
    {
     "data": {
      "text/html": [
       "<div>\n",
       "<style scoped>\n",
       "    .dataframe tbody tr th:only-of-type {\n",
       "        vertical-align: middle;\n",
       "    }\n",
       "\n",
       "    .dataframe tbody tr th {\n",
       "        vertical-align: top;\n",
       "    }\n",
       "\n",
       "    .dataframe thead th {\n",
       "        text-align: right;\n",
       "    }\n",
       "</style>\n",
       "<table border=\"1\" class=\"dataframe\">\n",
       "  <thead>\n",
       "    <tr style=\"text-align: right;\">\n",
       "      <th></th>\n",
       "      <th>Event_Name</th>\n",
       "      <th>Venue</th>\n",
       "      <th>Event_Date</th>\n",
       "      <th>Number_of_Attendees</th>\n",
       "    </tr>\n",
       "  </thead>\n",
       "  <tbody>\n",
       "    <tr>\n",
       "      <th>23</th>\n",
       "      <td>Gatsby's Penthouse - Dallas New Year's 2020</td>\n",
       "      <td>The Le Méridien Dallas Stoneleigh</td>\n",
       "      <td>2019-12-31</td>\n",
       "      <td>1</td>\n",
       "    </tr>\n",
       "    <tr>\n",
       "      <th>24</th>\n",
       "      <td>Gatsby's House - Houston New Year's Eve 2020</td>\n",
       "      <td>Houston</td>\n",
       "      <td>2019-12-31</td>\n",
       "      <td>1</td>\n",
       "    </tr>\n",
       "    <tr>\n",
       "      <th>25</th>\n",
       "      <td>Gladys Knight in Concert</td>\n",
       "      <td>Arena Theatre</td>\n",
       "      <td>2020-01-09</td>\n",
       "      <td>1</td>\n",
       "    </tr>\n",
       "    <tr>\n",
       "      <th>26</th>\n",
       "      <td>Oscar G - Made In Miami</td>\n",
       "      <td>Bauhaus</td>\n",
       "      <td>2020-01-18</td>\n",
       "      <td>1</td>\n",
       "    </tr>\n",
       "    <tr>\n",
       "      <th>27</th>\n",
       "      <td>Chaka Khan in Concert</td>\n",
       "      <td>Arena Theatre</td>\n",
       "      <td>2020-02-01</td>\n",
       "      <td>2</td>\n",
       "    </tr>\n",
       "  </tbody>\n",
       "</table>\n",
       "</div>"
      ],
      "text/plain": [
       "                                      Event_Name  \\\n",
       "23   Gatsby's Penthouse - Dallas New Year's 2020   \n",
       "24  Gatsby's House - Houston New Year's Eve 2020   \n",
       "25                      Gladys Knight in Concert   \n",
       "26                       Oscar G - Made In Miami   \n",
       "27                         Chaka Khan in Concert   \n",
       "\n",
       "                                Venue  Event_Date Number_of_Attendees  \n",
       "23  The Le Méridien Dallas Stoneleigh  2019-12-31                   1  \n",
       "24                            Houston  2019-12-31                   1  \n",
       "25                      Arena Theatre  2020-01-09                   1  \n",
       "26                            Bauhaus  2020-01-18                   1  \n",
       "27                      Arena Theatre  2020-02-01                   2  "
      ]
     },
     "execution_count": 129,
     "metadata": {},
     "output_type": "execute_result"
    }
   ],
   "source": [
    "#Your code here\n",
    "\n",
    "df = pd.DataFrame()\n",
    "url = 'https://www.residentadvisor.net/events'\n",
    "\n",
    "while len(df) < 50:\n",
    "    df1 = scrape_events(url)\n",
    "    df = pd.concat([df,df1], ignore_index=True)\n",
    "    if url == next_page(url):\n",
    "        break\n",
    "    else:\n",
    "        url = next_page(url)\n",
    "\n",
    "print(len(df))\n",
    "df.tail()\n"
   ]
  },
  {
   "cell_type": "code",
   "execution_count": 132,
   "metadata": {},
   "outputs": [
    {
     "data": {
      "text/html": [
       "<div>\n",
       "<style scoped>\n",
       "    .dataframe tbody tr th:only-of-type {\n",
       "        vertical-align: middle;\n",
       "    }\n",
       "\n",
       "    .dataframe tbody tr th {\n",
       "        vertical-align: top;\n",
       "    }\n",
       "\n",
       "    .dataframe thead th {\n",
       "        text-align: right;\n",
       "    }\n",
       "</style>\n",
       "<table border=\"1\" class=\"dataframe\">\n",
       "  <thead>\n",
       "    <tr style=\"text-align: right;\">\n",
       "      <th></th>\n",
       "      <th>Event_Name</th>\n",
       "      <th>Venue</th>\n",
       "      <th>Event_Date</th>\n",
       "      <th>Number_of_Attendees</th>\n",
       "    </tr>\n",
       "  </thead>\n",
       "  <tbody>\n",
       "    <tr>\n",
       "      <th>1</th>\n",
       "      <td>Praia at Night Feat. Carlo Lio B2B Nathan Barato</td>\n",
       "      <td>Bauhaus</td>\n",
       "      <td>2019-11-29</td>\n",
       "      <td>5</td>\n",
       "    </tr>\n",
       "    <tr>\n",
       "      <th>5</th>\n",
       "      <td>Kinda Super Disco // Erick Morillo</td>\n",
       "      <td>Numbers</td>\n",
       "      <td>2019-11-30</td>\n",
       "      <td>5</td>\n",
       "    </tr>\n",
       "    <tr>\n",
       "      <th>14</th>\n",
       "      <td>Tourist &amp; Matthew Dear</td>\n",
       "      <td>The Parish</td>\n",
       "      <td>2019-12-14</td>\n",
       "      <td>5</td>\n",
       "    </tr>\n",
       "    <tr>\n",
       "      <th>20</th>\n",
       "      <td>Bas_mrkt 2020 NYE! Barbuto, Sara Landry, Nymbl...</td>\n",
       "      <td>The Oven</td>\n",
       "      <td>2019-12-31</td>\n",
       "      <td>5</td>\n",
       "    </tr>\n",
       "    <tr>\n",
       "      <th>0</th>\n",
       "      <td>Spanksgiving // Verlk // Bedrock</td>\n",
       "      <td>Boondocks</td>\n",
       "      <td>2019-11-27</td>\n",
       "      <td>4</td>\n",
       "    </tr>\n",
       "    <tr>\n",
       "      <th>7</th>\n",
       "      <td>House of Tones presents: LA Riots &amp; Vanilla Ace</td>\n",
       "      <td>Voodoo Rm 3rd Floor</td>\n",
       "      <td>2019-12-05</td>\n",
       "      <td>4</td>\n",
       "    </tr>\n",
       "    <tr>\n",
       "      <th>11</th>\n",
       "      <td>Steve Lawler (Viva Music)</td>\n",
       "      <td>Club Here I Love You</td>\n",
       "      <td>2019-12-08</td>\n",
       "      <td>4</td>\n",
       "    </tr>\n",
       "    <tr>\n",
       "      <th>12</th>\n",
       "      <td>Tacky Sweater Tech House Party</td>\n",
       "      <td>Voodoo Rm 3rd Floor</td>\n",
       "      <td>2019-12-08</td>\n",
       "      <td>4</td>\n",
       "    </tr>\n",
       "    <tr>\n",
       "      <th>16</th>\n",
       "      <td>Private Label presents: Sacha Robbotti</td>\n",
       "      <td>The Terrace at Stereo Live</td>\n",
       "      <td>2019-12-15</td>\n",
       "      <td>4</td>\n",
       "    </tr>\n",
       "    <tr>\n",
       "      <th>2</th>\n",
       "      <td>Nero (DJ Set)</td>\n",
       "      <td>Empire Control Room &amp; Garage</td>\n",
       "      <td>2019-11-29</td>\n",
       "      <td>3</td>\n",
       "    </tr>\n",
       "    <tr>\n",
       "      <th>3</th>\n",
       "      <td>Chus Ceballos</td>\n",
       "      <td>It'll Do</td>\n",
       "      <td>2019-11-29</td>\n",
       "      <td>3</td>\n",
       "    </tr>\n",
       "    <tr>\n",
       "      <th>15</th>\n",
       "      <td>Cirque Noir presents: Do Not Sit in Houston</td>\n",
       "      <td>Houston</td>\n",
       "      <td>2019-12-14</td>\n",
       "      <td>3</td>\n",
       "    </tr>\n",
       "    <tr>\n",
       "      <th>4</th>\n",
       "      <td>Black Friday Midwest Sessions with Demarkus Lewis</td>\n",
       "      <td>Plush</td>\n",
       "      <td>2019-11-29</td>\n",
       "      <td>2</td>\n",
       "    </tr>\n",
       "    <tr>\n",
       "      <th>8</th>\n",
       "      <td>BlackTone presents: Francesco Del Garda</td>\n",
       "      <td>Austin</td>\n",
       "      <td>2019-12-06</td>\n",
       "      <td>2</td>\n",
       "    </tr>\n",
       "    <tr>\n",
       "      <th>13</th>\n",
       "      <td>Demuja by BauHaus Houston</td>\n",
       "      <td>Bauhaus</td>\n",
       "      <td>2019-12-13</td>\n",
       "      <td>2</td>\n",
       "    </tr>\n",
       "    <tr>\n",
       "      <th>21</th>\n",
       "      <td>Gatsby's House - Austin New Year's Eve 2020</td>\n",
       "      <td>Austin</td>\n",
       "      <td>2019-12-31</td>\n",
       "      <td>2</td>\n",
       "    </tr>\n",
       "    <tr>\n",
       "      <th>27</th>\n",
       "      <td>Chaka Khan in Concert</td>\n",
       "      <td>Arena Theatre</td>\n",
       "      <td>2020-02-01</td>\n",
       "      <td>2</td>\n",
       "    </tr>\n",
       "    <tr>\n",
       "      <th>9</th>\n",
       "      <td>Emo Night Brooklyn: Austin with Special Guests</td>\n",
       "      <td>Empire Control Room &amp; Garage</td>\n",
       "      <td>2019-12-07</td>\n",
       "      <td>1</td>\n",
       "    </tr>\n",
       "    <tr>\n",
       "      <th>17</th>\n",
       "      <td>Feedback</td>\n",
       "      <td>Plush</td>\n",
       "      <td>2019-12-15</td>\n",
       "      <td>1</td>\n",
       "    </tr>\n",
       "    <tr>\n",
       "      <th>18</th>\n",
       "      <td>Mor Elian by BauHaus Houston</td>\n",
       "      <td>Bauhaus</td>\n",
       "      <td>2019-12-20</td>\n",
       "      <td>1</td>\n",
       "    </tr>\n",
       "    <tr>\n",
       "      <th>22</th>\n",
       "      <td>Nyelectric W Dallas Rooftop New Years Eve 2020</td>\n",
       "      <td>Dallas/Fort Worth</td>\n",
       "      <td>2019-12-31</td>\n",
       "      <td>1</td>\n",
       "    </tr>\n",
       "    <tr>\n",
       "      <th>23</th>\n",
       "      <td>Gatsby's Penthouse - Dallas New Year's 2020</td>\n",
       "      <td>The Le Méridien Dallas Stoneleigh</td>\n",
       "      <td>2019-12-31</td>\n",
       "      <td>1</td>\n",
       "    </tr>\n",
       "    <tr>\n",
       "      <th>24</th>\n",
       "      <td>Gatsby's House - Houston New Year's Eve 2020</td>\n",
       "      <td>Houston</td>\n",
       "      <td>2019-12-31</td>\n",
       "      <td>1</td>\n",
       "    </tr>\n",
       "    <tr>\n",
       "      <th>25</th>\n",
       "      <td>Gladys Knight in Concert</td>\n",
       "      <td>Arena Theatre</td>\n",
       "      <td>2020-01-09</td>\n",
       "      <td>1</td>\n",
       "    </tr>\n",
       "    <tr>\n",
       "      <th>26</th>\n",
       "      <td>Oscar G - Made In Miami</td>\n",
       "      <td>Bauhaus</td>\n",
       "      <td>2020-01-18</td>\n",
       "      <td>1</td>\n",
       "    </tr>\n",
       "    <tr>\n",
       "      <th>6</th>\n",
       "      <td>Brett Johnson</td>\n",
       "      <td>It'll Do</td>\n",
       "      <td>2019-11-30</td>\n",
       "      <td>0</td>\n",
       "    </tr>\n",
       "    <tr>\n",
       "      <th>10</th>\n",
       "      <td>Kim Ann Foxman</td>\n",
       "      <td>It'll Do</td>\n",
       "      <td>2019-12-07</td>\n",
       "      <td>0</td>\n",
       "    </tr>\n",
       "    <tr>\n",
       "      <th>19</th>\n",
       "      <td>Midwest Sessions, 4yr Anniversary with Red Eye</td>\n",
       "      <td>Plush</td>\n",
       "      <td>2019-12-27</td>\n",
       "      <td>0</td>\n",
       "    </tr>\n",
       "  </tbody>\n",
       "</table>\n",
       "</div>"
      ],
      "text/plain": [
       "                                           Event_Name  \\\n",
       "1    Praia at Night Feat. Carlo Lio B2B Nathan Barato   \n",
       "5                  Kinda Super Disco // Erick Morillo   \n",
       "14                            Tourist & Matthew Dear    \n",
       "20  Bas_mrkt 2020 NYE! Barbuto, Sara Landry, Nymbl...   \n",
       "0                    Spanksgiving // Verlk // Bedrock   \n",
       "7     House of Tones presents: LA Riots & Vanilla Ace   \n",
       "11                          Steve Lawler (Viva Music)   \n",
       "12                     Tacky Sweater Tech House Party   \n",
       "16             Private Label presents: Sacha Robbotti   \n",
       "2                                      Nero (DJ Set)    \n",
       "3                                       Chus Ceballos   \n",
       "15        Cirque Noir presents: Do Not Sit in Houston   \n",
       "4   Black Friday Midwest Sessions with Demarkus Lewis   \n",
       "8             BlackTone presents: Francesco Del Garda   \n",
       "13                          Demuja by BauHaus Houston   \n",
       "21        Gatsby's House - Austin New Year's Eve 2020   \n",
       "27                              Chaka Khan in Concert   \n",
       "9      Emo Night Brooklyn: Austin with Special Guests   \n",
       "17                                           Feedback   \n",
       "18                       Mor Elian by BauHaus Houston   \n",
       "22     Nyelectric W Dallas Rooftop New Years Eve 2020   \n",
       "23        Gatsby's Penthouse - Dallas New Year's 2020   \n",
       "24       Gatsby's House - Houston New Year's Eve 2020   \n",
       "25                           Gladys Knight in Concert   \n",
       "26                            Oscar G - Made In Miami   \n",
       "6                                       Brett Johnson   \n",
       "10                                     Kim Ann Foxman   \n",
       "19     Midwest Sessions, 4yr Anniversary with Red Eye   \n",
       "\n",
       "                                Venue  Event_Date Number_of_Attendees  \n",
       "1                             Bauhaus  2019-11-29                   5  \n",
       "5                             Numbers  2019-11-30                   5  \n",
       "14                         The Parish  2019-12-14                   5  \n",
       "20                           The Oven  2019-12-31                   5  \n",
       "0                           Boondocks  2019-11-27                   4  \n",
       "7                 Voodoo Rm 3rd Floor  2019-12-05                   4  \n",
       "11               Club Here I Love You  2019-12-08                   4  \n",
       "12                Voodoo Rm 3rd Floor  2019-12-08                   4  \n",
       "16         The Terrace at Stereo Live  2019-12-15                   4  \n",
       "2        Empire Control Room & Garage  2019-11-29                   3  \n",
       "3                            It'll Do  2019-11-29                   3  \n",
       "15                            Houston  2019-12-14                   3  \n",
       "4                               Plush  2019-11-29                   2  \n",
       "8                              Austin  2019-12-06                   2  \n",
       "13                            Bauhaus  2019-12-13                   2  \n",
       "21                             Austin  2019-12-31                   2  \n",
       "27                      Arena Theatre  2020-02-01                   2  \n",
       "9        Empire Control Room & Garage  2019-12-07                   1  \n",
       "17                              Plush  2019-12-15                   1  \n",
       "18                            Bauhaus  2019-12-20                   1  \n",
       "22                  Dallas/Fort Worth  2019-12-31                   1  \n",
       "23  The Le Méridien Dallas Stoneleigh  2019-12-31                   1  \n",
       "24                            Houston  2019-12-31                   1  \n",
       "25                      Arena Theatre  2020-01-09                   1  \n",
       "26                            Bauhaus  2020-01-18                   1  \n",
       "6                            It'll Do  2019-11-30                   0  \n",
       "10                           It'll Do  2019-12-07                   0  \n",
       "19                              Plush  2019-12-27                   0  "
      ]
     },
     "execution_count": 132,
     "metadata": {},
     "output_type": "execute_result"
    }
   ],
   "source": [
    "df.sort_values(['Number_of_Attendees','Event_Date'], ascending=[False,True])"
   ]
  },
  {
   "cell_type": "markdown",
   "metadata": {},
   "source": [
    "## Summary \n",
    "\n",
    "Congratulations! In this lab, you successfully developed a pipeline to scrape a website for concert event information!"
   ]
  }
 ],
 "metadata": {
  "kernelspec": {
   "display_name": "Python 3",
   "language": "python",
   "name": "python3"
  },
  "language_info": {
   "codemirror_mode": {
    "name": "ipython",
    "version": 3
   },
   "file_extension": ".py",
   "mimetype": "text/x-python",
   "name": "python",
   "nbconvert_exporter": "python",
   "pygments_lexer": "ipython3",
   "version": "3.7.1"
  }
 },
 "nbformat": 4,
 "nbformat_minor": 2
}
